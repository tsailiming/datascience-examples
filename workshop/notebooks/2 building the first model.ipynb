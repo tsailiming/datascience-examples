{
 "cells": [
  {
   "cell_type": "markdown",
   "metadata": {},
   "source": [
    "# Load the data"
   ]
  },
  {
   "cell_type": "code",
   "execution_count": 1,
   "metadata": {},
   "outputs": [
    {
     "name": "stdout",
     "output_type": "stream",
     "text": [
      "\u001b[33mWARNING: You are using pip version 19.2.1, however version 20.1.1 is available.\r\n",
      "You should consider upgrading via the 'pip install --upgrade pip' command.\u001b[0m\r\n"
     ]
    }
   ],
   "source": [
    "!pip install -r ../src/train/requirements.txt --quiet"
   ]
  },
  {
   "cell_type": "markdown",
   "metadata": {},
   "source": [
    "After running `pip`, restart the notebook kernel by going to the menu at the top."
   ]
  },
  {
   "cell_type": "code",
   "execution_count": 2,
   "metadata": {},
   "outputs": [],
   "source": [
    "import os, mlflow"
   ]
  },
  {
   "cell_type": "markdown",
   "metadata": {},
   "source": [
    "We have now imported `mlflow`. \n",
    "\n",
    "MLflow is an open source platform for managing the end-to-end machine learning lifecycle. It tackles four primary functions:\n",
    "\n",
    "* Tracking experiments to record and compare parameters and results (MLflow Tracking).\n",
    "\n",
    "* Packaging ML code in a reusable, reproducible form in order to share with other data scientists or transfer to production (MLflow Projects).\n",
    "\n",
    "* Managing and deploying models from a variety of ML libraries to a variety of model serving and inference platforms (MLflow Models).\n",
    "\n",
    "* Providing a central model store to collaboratively manage the full lifecycle of an MLflow Model, including model versioning, stage transitions, and annotations (MLflow Model Registry)."
   ]
  },
  {
   "cell_type": "code",
   "execution_count": 3,
   "metadata": {},
   "outputs": [
    {
     "name": "stdout",
     "output_type": "stream",
     "text": [
      "The MLflow server is here: https://mlflow-user3-dev.apps.cluster-e03e.e03e.sandbox205.opentlc.com\n"
     ]
    }
   ],
   "source": [
    "print('The MLflow server is here: {}'.format(os.environ['MLFLOW_TRACKING_URI']))"
   ]
  },
  {
   "cell_type": "code",
   "execution_count": 4,
   "metadata": {},
   "outputs": [
    {
     "name": "stdout",
     "output_type": "stream",
     "text": [
      "Experiment ID: 1\n"
     ]
    }
   ],
   "source": [
    "# The experiment results will be logged into the \"Dev\" experiment\n",
    "experiment_name = os.environ.get('MLFLOW_EXPERIMENT_NAME', 'Dev')\n",
    "\n",
    "e = mlflow.get_experiment_by_name(experiment_name)\n",
    "if not e:\n",
    "    experiment_id = mlflow.create_experiment(name=experiment_name)\n",
    "else:\n",
    "    experiment_id = e.experiment_id\n",
    "\n",
    "print('Experiment ID: {}'.format(experiment_id))"
   ]
  },
  {
   "cell_type": "code",
   "execution_count": 5,
   "metadata": {},
   "outputs": [],
   "source": [
    "# We now start a run called \"fraud_lr\"\n",
    "run = mlflow.start_run(experiment_id=experiment_id, run_name = 'fraud_lr')"
   ]
  },
  {
   "cell_type": "markdown",
   "metadata": {},
   "source": [
    "An experiment run will be created at MLFlow tracking server under the \"Dev\" experiment.\n",
    "\n",
    "![mlflow-dev](images/mlflow-dev.png)"
   ]
  },
  {
   "cell_type": "code",
   "execution_count": 6,
   "metadata": {},
   "outputs": [],
   "source": [
    "import pandas as pd\n",
    "import numpy as np"
   ]
  },
  {
   "cell_type": "code",
   "execution_count": 7,
   "metadata": {},
   "outputs": [
    {
     "name": "stdout",
     "output_type": "stream",
     "text": [
      "Data is from this S3 bucket:\n",
      "s3://mlflow-obc-d56cdff0-6101-40dd-9d0d-4a6ce5dbec98/dvcf4g2/e9/0efcb83d69faf99fcab8b0255024de\n"
     ]
    }
   ],
   "source": [
    "import dvc.api\n",
    "import s3fs\n",
    "import os\n",
    "\n",
    "# The credidcard.csv versioning metadata is kept in a git repository in os.environ['DATA_REPO'].\n",
    "# We are pulling version 1.0 of the data and the data itself is from a S3 bucket that is returned\n",
    "# by dvc.api.get_url()\n",
    "resource_url = dvc.api.get_url(\n",
    "    path='creditcard.csv',\n",
    "    repo=os.environ['DATA_REPO'],\n",
    "    rev='v1.0')\n",
    "\n",
    "print(\"Data is from this S3 bucket:\\n{}\".format(resource_url))\n",
    "\n",
    "# Pandas doens't support endpoint_url\n",
    "# https://github.com/pandas-dev/pandas/pull/29050\n",
    "fs = s3fs.S3FileSystem(client_kwargs={'endpoint_url': os.environ['S3_ENDPOINT_URL']})\n",
    "df = pd.read_csv(fs.open(resource_url))"
   ]
  },
  {
   "cell_type": "code",
   "execution_count": 8,
   "metadata": {},
   "outputs": [],
   "source": [
    "features = df.columns.values"
   ]
  },
  {
   "cell_type": "markdown",
   "metadata": {},
   "source": [
    "# Finding features with the highest correlation"
   ]
  },
  {
   "cell_type": "code",
   "execution_count": 9,
   "metadata": {},
   "outputs": [
    {
     "data": {
      "text/plain": [
       "['V1',\n",
       " 'V3',\n",
       " 'V4',\n",
       " 'V7',\n",
       " 'V10',\n",
       " 'V11',\n",
       " 'V12',\n",
       " 'V14',\n",
       " 'V16',\n",
       " 'V17',\n",
       " 'V18',\n",
       " 'Class']"
      ]
     },
     "execution_count": 9,
     "metadata": {},
     "output_type": "execute_result"
    }
   ],
   "source": [
    "def most_corr(param, n):\n",
    "    class_corr = df.corr()[param].sort_values(ascending=False)\n",
    "    list_class = []\n",
    "    for i in features:\n",
    "        if(np.abs(class_corr[i]) >= n): \n",
    "           list_class.append(i)\n",
    "    return list_class\n",
    "# Select features with correlation higher than 0.1 (positive correlation) or lower than -0.1 (negative correlation)\n",
    "selected_features = most_corr('Class', 0.1)\n",
    "selected_features"
   ]
  },
  {
   "cell_type": "code",
   "execution_count": 10,
   "metadata": {},
   "outputs": [],
   "source": [
    "dataset = df[selected_features]"
   ]
  },
  {
   "cell_type": "markdown",
   "metadata": {},
   "source": [
    "# Building your first baseline Logistic Regression model"
   ]
  },
  {
   "cell_type": "code",
   "execution_count": 11,
   "metadata": {},
   "outputs": [],
   "source": [
    "from sklearn.model_selection import train_test_split\n",
    "\n",
    "from sklearn.metrics import classification_report, recall_score, precision_score, \\\n",
    "    average_precision_score, precision_recall_curve, f1_score, auc, \\\n",
    "    roc_curve, roc_auc_score, confusion_matrix, accuracy_score"
   ]
  },
  {
   "cell_type": "code",
   "execution_count": 12,
   "metadata": {},
   "outputs": [],
   "source": [
    "RANDOM_SEED = 42\n",
    "mlflow.log_param('RANDOM_SEED', RANDOM_SEED)"
   ]
  },
  {
   "cell_type": "code",
   "execution_count": 13,
   "metadata": {},
   "outputs": [],
   "source": [
    "TEST_SIZE = 0.3\n",
    "mlflow.log_param('TEST_SIZE', TEST_SIZE)"
   ]
  },
  {
   "cell_type": "markdown",
   "metadata": {},
   "source": [
    "## Split the data into X and y"
   ]
  },
  {
   "cell_type": "code",
   "execution_count": 14,
   "metadata": {},
   "outputs": [],
   "source": [
    "X_train, X_test, y_train, y_test = train_test_split(dataset.drop('Class',1) , dataset['Class'], test_size=TEST_SIZE, random_state=RANDOM_SEED)"
   ]
  },
  {
   "cell_type": "code",
   "execution_count": 15,
   "metadata": {},
   "outputs": [
    {
     "data": {
      "text/plain": [
       "(199364, 11)"
      ]
     },
     "execution_count": 15,
     "metadata": {},
     "output_type": "execute_result"
    }
   ],
   "source": [
    "X_train.shape"
   ]
  },
  {
   "cell_type": "code",
   "execution_count": 16,
   "metadata": {},
   "outputs": [
    {
     "data": {
      "text/plain": [
       "(85443, 11)"
      ]
     },
     "execution_count": 16,
     "metadata": {},
     "output_type": "execute_result"
    }
   ],
   "source": [
    "X_test.shape"
   ]
  },
  {
   "cell_type": "code",
   "execution_count": 17,
   "metadata": {},
   "outputs": [],
   "source": [
    "from imblearn.pipeline import Pipeline \n",
    "from imblearn.over_sampling import SMOTE\n",
    "from sklearn.linear_model import LogisticRegression\n",
    "\n",
    "resampling = SMOTE(sampling_strategy='minority', random_state=RANDOM_SEED)\n",
    "model = Pipeline([('SMOTE', resampling), ('Logistic Regression', LogisticRegression())])"
   ]
  },
  {
   "cell_type": "code",
   "execution_count": 18,
   "metadata": {},
   "outputs": [
    {
     "data": {
      "text/plain": [
       "Pipeline(steps=[('SMOTE', SMOTE(random_state=42, sampling_strategy='minority')),\n",
       "                ('Logistic Regression', LogisticRegression())])"
      ]
     },
     "execution_count": 18,
     "metadata": {},
     "output_type": "execute_result"
    }
   ],
   "source": [
    "model.fit(X_train, y_train)"
   ]
  },
  {
   "cell_type": "code",
   "execution_count": 19,
   "metadata": {},
   "outputs": [],
   "source": [
    "# Let's define the threshold\n",
    "THRESHOLD = 0.7"
   ]
  },
  {
   "cell_type": "code",
   "execution_count": 20,
   "metadata": {},
   "outputs": [],
   "source": [
    "# Probabilities \n",
    "y_proba_baseline = model.predict_proba(X_test)[:,1]"
   ]
  },
  {
   "cell_type": "code",
   "execution_count": 21,
   "metadata": {},
   "outputs": [],
   "source": [
    "average_precision = average_precision_score(y_test, y_proba_baseline)\n",
    "mlflow.log_metric('average_precision', average_precision)"
   ]
  },
  {
   "cell_type": "code",
   "execution_count": 22,
   "metadata": {},
   "outputs": [
    {
     "name": "stdout",
     "output_type": "stream",
     "text": [
      "              precision    recall  f1-score   support\n",
      "\n",
      "           0       1.00      0.99      0.99     85307\n",
      "           1       0.10      0.92      0.18       136\n",
      "\n",
      "    accuracy                           0.99     85443\n",
      "   macro avg       0.55      0.95      0.59     85443\n",
      "weighted avg       1.00      0.99      0.99     85443\n",
      "\n",
      "\n",
      "\n",
      "AUC: 0.9805122967634543%\n",
      "Precision-Recall: 0.7694974622008761\n",
      "\n",
      "\n"
     ]
    }
   ],
   "source": [
    "print(classification_report(y_test, y_proba_baseline>THRESHOLD))\n",
    "print('\\n')\n",
    "print('AUC: {}%'.format(roc_auc_score(y_test, y_proba_baseline)))\n",
    "print('Precision-Recall: {}'.format(average_precision))\n",
    "print('\\n')\n",
    "\n",
    "rpt = classification_report(y_test, y_proba_baseline>THRESHOLD, output_dict=True)\n",
    "for lbl in ['0', '1']:\n",
    "    mlflow.log_metric(lbl + '_recall', rpt[lbl]['recall'])\n",
    "    mlflow.log_metric(lbl + '_f1_score', rpt[lbl]['f1-score'])\n",
    "    mlflow.log_metric(lbl + '_precision', rpt[lbl]['precision'])"
   ]
  },
  {
   "cell_type": "markdown",
   "metadata": {},
   "source": [
    "## AUC - ROC Curve"
   ]
  },
  {
   "cell_type": "code",
   "execution_count": 23,
   "metadata": {},
   "outputs": [],
   "source": [
    "%matplotlib inline\n",
    "import matplotlib.pyplot as plt\n",
    "import seaborn as sns\n",
    "\n",
    "sns.set()"
   ]
  },
  {
   "cell_type": "code",
   "execution_count": 24,
   "metadata": {},
   "outputs": [
    {
     "data": {
      "image/png": "[encoded data removed]",
      "text/plain": [
       "<Figure size 720x504 with 1 Axes>"
      ]
     },
     "metadata": {
      "needs_background": "light"
     },
     "output_type": "display_data"
    }
   ],
   "source": [
    "plt.figure(figsize = (10,7))\n",
    "fpr, tpr, thresholds = roc_curve(y_test, y_proba_baseline)\n",
    "plt.plot(fpr, tpr, color='orange', label='ROC')\n",
    "plt.plot([0, 1], [0, 1], color='darkblue', linestyle='--')\n",
    "plt.fill_between(fpr, tpr, color='skyblue', alpha=0.3)\n",
    "plt.xlabel('False Positive Rate')\n",
    "plt.ylabel('True Positive Rate')\n",
    "plt.title('Receiver Operating Characteristic (ROC) Curve')\n",
    "plt.legend()\n",
    "plt.show()"
   ]
  },
  {
   "cell_type": "markdown",
   "metadata": {},
   "source": [
    "## Plot the Precision-Recall curve"
   ]
  },
  {
   "cell_type": "code",
   "execution_count": 25,
   "metadata": {},
   "outputs": [
    {
     "data": {
      "image/png": "[encoded data removed]",
      "text/plain": [
       "<Figure size 720x504 with 1 Axes>"
      ]
     },
     "metadata": {
      "needs_background": "light"
     },
     "output_type": "display_data"
    }
   ],
   "source": [
    "# For unbalanced data\n",
    "plt.figure(figsize = (10,7))\n",
    "\n",
    "precision, recall, _ = precision_recall_curve(y_test, y_proba_baseline)\n",
    "plt.plot(recall, precision, marker='.', label='AP={:.4f}'.format(average_precision))\n",
    "\n",
    "plt.xlabel('Recall')\n",
    "plt.ylabel('Precision')\n",
    "plt.title('2-class Precision-Recall curve')\n",
    "plt.legend()\n",
    "plt.show()"
   ]
  },
  {
   "cell_type": "code",
   "execution_count": null,
   "metadata": {},
   "outputs": [],
   "source": []
  },
  {
   "cell_type": "markdown",
   "metadata": {},
   "source": [
    "## Confusion Matrix"
   ]
  },
  {
   "cell_type": "code",
   "execution_count": 29,
   "metadata": {},
   "outputs": [
    {
     "data": {
      "image/png": "[encoded data removed]",
      "text/plain": [
       "<Figure size 720x504 with 2 Axes>"
      ]
     },
     "metadata": {},
     "output_type": "display_data"
    }
   ],
   "source": [
    "LABELS = [\"Normal\", \"Fraud\"]\n",
    "\n",
    "plt.figure(figsize = (10,7))\n",
    "\n",
    "cm = confusion_matrix(y_test, y_proba_baseline>THRESHOLD) # rows = truth, cols = prediction    \n",
    "df_cm = pd.DataFrame(cm, index = (0, 1), columns = (0, 1))\n",
    "\n",
    "sns.set(font_scale=1.4)\n",
    "sns.heatmap(df_cm, xticklabels=LABELS, yticklabels=LABELS, annot=True, fmt=\"d\", cmap='Blues')\n",
    "\n",
    "accuracy = accuracy_score(y_test, y_proba_baseline>THRESHOLD)\n",
    "mlflow.log_metric('accuracy', accuracy)\n",
    "\n",
    "plt.title('Accuracy: {:.4f}'.format(accuracy))\n",
    "plt.ylabel('True label')\n",
    "plt.xlabel('Predicted label')\n",
    "    \n",
    "b, t = plt.ylim() # discover the values for bottom and top\n",
    "b += 0.5 # Add 0.5 to the bottom\n",
    "t -= 0.5 # Subtract 0.5 from the top\n",
    "plt.ylim(b, t) # update the ylim(bottom, top) values\n",
    "\n",
    "plt.tight_layout()  \n",
    "plt.show()"
   ]
  },
  {
   "cell_type": "markdown",
   "metadata": {},
   "source": [
    "Save the model to MLFlow"
   ]
  },
  {
   "cell_type": "code",
   "execution_count": 27,
   "metadata": {},
   "outputs": [],
   "source": [
    "import mlflow.sklearn\n",
    "\n",
    "model_path = '/tmp/model'\n",
    "if os.path.exists(model_path):\n",
    "    shutil.rmtree(model_path)\n",
    "\n",
    "mlflow.sklearn.save_model(model, model_path)\n",
    "mlflow.sklearn.log_model(model, 'models')"
   ]
  },
  {
   "cell_type": "code",
   "execution_count": 28,
   "metadata": {},
   "outputs": [
    {
     "name": "stdout",
     "output_type": "stream",
     "text": [
      "The MLflow server is here: https://mlflow-user3-dev.apps.cluster-e03e.e03e.sandbox205.opentlc.com\n"
     ]
    }
   ],
   "source": [
    "# We will now end the run\n",
    "mlflow.end_run()\n",
    "print('The MLflow server is here: {}'.format(os.environ['MLFLOW_TRACKING_URI']))"
   ]
  },
  {
   "cell_type": "markdown",
   "metadata": {},
   "source": [
    "MLflow will log the run and save the associated artifacts into the tracking server.\n",
    "\n",
    "Now go to the MLflow tracking server to see the metrics and the model being saved."
   ]
  }
 ],
 "metadata": {
  "kernelspec": {
   "display_name": "Python 3",
   "language": "python",
   "name": "python3"
  },
  "language_info": {
   "codemirror_mode": {
    "name": "ipython",
    "version": 3
   },
   "file_extension": ".py",
   "mimetype": "text/x-python",
   "name": "python",
   "nbconvert_exporter": "python",
   "pygments_lexer": "ipython3",
   "version": "3.6.3"
  }
 },
 "nbformat": 4,
 "nbformat_minor": 4
}
