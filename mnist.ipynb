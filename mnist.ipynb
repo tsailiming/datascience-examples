{
 "cells": [
  {
   "cell_type": "markdown",
   "metadata": {},
   "source": [
    "This notebook is based on https://nextjournal.com/gkoehler/pytorch-mnist"
   ]
  },
  {
   "cell_type": "code",
   "execution_count": 1,
   "metadata": {},
   "outputs": [],
   "source": [
    "!pip install torchvision torch tensorboard matplotlib --quiet"
   ]
  },
  {
   "cell_type": "code",
   "execution_count": 2,
   "metadata": {},
   "outputs": [],
   "source": [
    "from tensorboardX import SummaryWriter\n",
    "from torchvision import datasets, transforms\n",
    "import torch\n",
    "import torch.distributed as dist\n",
    "import torch.nn as nn\n",
    "import torch.nn.functional as F\n",
    "import torch.optim as optim"
   ]
  },
  {
   "cell_type": "code",
   "execution_count": 3,
   "metadata": {},
   "outputs": [
    {
     "data": {
      "text/plain": [
       "<torch._C.Generator at 0x108f934f0>"
      ]
     },
     "execution_count": 3,
     "metadata": {},
     "output_type": "execute_result"
    }
   ],
   "source": [
    "use_cuda = torch.cuda.is_available()\n",
    "kwargs = {'num_workers': 1, 'pin_memory': True} if use_cuda else {}\n",
    "\n",
    "log_interval = 100\n",
    "\n",
    "device = torch.device(\"cuda\" if use_cuda else \"cpu\")\n",
    "torch.manual_seed(1)"
   ]
  },
  {
   "cell_type": "code",
   "execution_count": 4,
   "metadata": {},
   "outputs": [],
   "source": [
    "batch_size = 64\n",
    "\n",
    "train_loader = torch.utils.data.DataLoader(\n",
    "    datasets.MNIST('data', train=True, download=True,\n",
    "                       transform=transforms.Compose([\n",
    "                           transforms.ToTensor(),\n",
    "                           transforms.Normalize((0.1307,), (0.3081,))\n",
    "                       ])),\n",
    "    batch_size=batch_size, shuffle=True, **kwargs)"
   ]
  },
  {
   "cell_type": "code",
   "execution_count": 5,
   "metadata": {},
   "outputs": [],
   "source": [
    "test_batch_size = 1000\n",
    "\n",
    "test_loader = torch.utils.data.DataLoader(\n",
    "    datasets.MNIST('data', train=False, download=True, transform=transforms.Compose([\n",
    "                           transforms.ToTensor(),\n",
    "                           transforms.Normalize((0.1307,), (0.3081,))\n",
    "                       ])),\n",
    "    batch_size=test_batch_size, shuffle=True, **kwargs)"
   ]
  },
  {
   "cell_type": "code",
   "execution_count": 6,
   "metadata": {},
   "outputs": [
    {
     "data": {
      "text/plain": [
       "torch.Size([1000, 1, 28, 28])"
      ]
     },
     "execution_count": 6,
     "metadata": {},
     "output_type": "execute_result"
    }
   ],
   "source": [
    "examples = enumerate(test_loader)\n",
    "batch_idx, (example_data, example_targets) = next(examples)\n",
    "example_data.shape"
   ]
  },
  {
   "cell_type": "code",
   "execution_count": 7,
   "metadata": {},
   "outputs": [
    {
     "data": {
      "image/png": "[encoded data removed]",
      "text/plain": [
       "<Figure size 432x288 with 6 Axes>"
      ]
     },
     "metadata": {},
     "output_type": "display_data"
    }
   ],
   "source": [
    "import matplotlib.pyplot as plt\n",
    "\n",
    "fig = plt.figure()\n",
    "for i in range(6):\n",
    "  plt.subplot(2,3,i+1)\n",
    "  plt.tight_layout()\n",
    "  plt.imshow(example_data[i][0], cmap='gray', interpolation='none')\n",
    "  plt.title(\"Ground Truth: {}\".format(example_targets[i]))\n",
    "  plt.xticks([])\n",
    "  plt.yticks([])"
   ]
  },
  {
   "cell_type": "code",
   "execution_count": 8,
   "metadata": {},
   "outputs": [],
   "source": [
    "class Net(nn.Module):\n",
    "    def __init__(self):\n",
    "        super(Net, self).__init__()\n",
    "        self.conv1 = nn.Conv2d(1, 10, kernel_size=5)\n",
    "        self.conv2 = nn.Conv2d(10, 20, kernel_size=5)\n",
    "        self.conv2_drop = nn.Dropout2d()\n",
    "        self.fc1 = nn.Linear(320, 50)\n",
    "        self.fc2 = nn.Linear(50, 10)\n",
    "\n",
    "    def forward(self, x):\n",
    "        x = F.relu(F.max_pool2d(self.conv1(x), 2))\n",
    "        x = F.relu(F.max_pool2d(self.conv2_drop(self.conv2(x)), 2))\n",
    "        x = x.view(-1, 320)\n",
    "        x = F.relu(self.fc1(x))\n",
    "        x = F.dropout(x, training=self.training)\n",
    "        x = self.fc2(x)\n",
    "        return F.log_softmax(x)"
   ]
  },
  {
   "cell_type": "code",
   "execution_count": 9,
   "metadata": {},
   "outputs": [],
   "source": [
    "model = Net().to(device)"
   ]
  },
  {
   "cell_type": "code",
   "execution_count": 10,
   "metadata": {},
   "outputs": [],
   "source": [
    "lr = 0.01\n",
    "momentum = 0.5\n",
    "\n",
    "optimizer = optim.SGD(model.parameters(), lr=lr, momentum=momentum)"
   ]
  },
  {
   "cell_type": "code",
   "execution_count": 11,
   "metadata": {},
   "outputs": [],
   "source": [
    "def train(model, device, train_loader, optimizer, epoch, writer):\n",
    "    model.train()\n",
    "\n",
    "    for batch_idx, (data, target) in enumerate(train_loader):\n",
    "        data, target = data.to(device), target.to(device)\n",
    "        optimizer.zero_grad()\n",
    "        output = model(data)\n",
    "        loss = F.nll_loss(output, target)\n",
    "        loss.backward()\n",
    "        optimizer.step()\n",
    "\n",
    "        # Track the accuracy\n",
    "        total = target.size(0)\n",
    "        _, predicted = torch.max(output.data, 1)\n",
    "        correct = (predicted == target).sum().item()\n",
    "        accuracy = correct / total\n",
    "\n",
    "        if batch_idx  % log_interval == 0:\n",
    "            print('Train Epoch: {} [{}/{} ({:.0f}%)]\\tLoss: {:.2f} Accuracy: {:.2f}'.format(\n",
    "                epoch, batch_idx * len(data), len(train_loader.dataset),\n",
    "                100. * batch_idx / len(train_loader), loss.item(), accuracy))\n",
    "\n",
    "            niter = epoch*len(train_loader)+batch_idx\n",
    "            writer.add_scalar('Train/Loss', loss.item(), niter)\n",
    "            writer.add_scalar('Train/accuracy', accuracy, niter)"
   ]
  },
  {
   "cell_type": "code",
   "execution_count": 12,
   "metadata": {},
   "outputs": [],
   "source": [
    "def test(model, device, test_loader, epoch, writer):\n",
    "    model.eval()\n",
    "    test_loss = 0\n",
    "    correct = 0\n",
    "    with torch.no_grad():\n",
    "        for data, target in test_loader:\n",
    "            data, target = data.to(device), target.to(device)\n",
    "            output = model(data)\n",
    "            test_loss += F.nll_loss(output, target, reduction='sum').item() # sum up batch loss\n",
    "            pred = output.max(1, keepdim=True)[1] # get the index of the max log-probability\n",
    "            correct += pred.eq(target.view_as(pred)).sum().item()\n",
    "\n",
    "    niter = epoch*len(test_loader)\n",
    "    writer.add_scalar('Test/accuracy', float(correct) / len(test_loader.dataset), niter)\n",
    "    print('\\nTest accuracy={:.2f}\\n'.format(float(correct) / len(test_loader.dataset)))"
   ]
  },
  {
   "cell_type": "code",
   "execution_count": 13,
   "metadata": {},
   "outputs": [],
   "source": [
    "!rm -rf logs/*\n",
    "writer = SummaryWriter('logs/')"
   ]
  },
  {
   "cell_type": "code",
   "execution_count": 14,
   "metadata": {},
   "outputs": [
    {
     "name": "stderr",
     "output_type": "stream",
     "text": [
      "/usr/local/lib/python3.7/site-packages/ipykernel_launcher.py:17: UserWarning: Implicit dimension choice for log_softmax has been deprecated. Change the call to include dim=X as an argument.\n"
     ]
    },
    {
     "name": "stdout",
     "output_type": "stream",
     "text": [
      "Train Epoch: 1 [0/60000 (0%)]\tLoss: 2.33 Accuracy: 0.08\n",
      "Train Epoch: 1 [6400/60000 (11%)]\tLoss: 1.86 Accuracy: 0.34\n",
      "Train Epoch: 1 [12800/60000 (21%)]\tLoss: 1.15 Accuracy: 0.59\n",
      "Train Epoch: 1 [19200/60000 (32%)]\tLoss: 0.82 Accuracy: 0.73\n",
      "Train Epoch: 1 [25600/60000 (43%)]\tLoss: 1.05 Accuracy: 0.67\n",
      "Train Epoch: 1 [32000/60000 (53%)]\tLoss: 0.69 Accuracy: 0.78\n",
      "Train Epoch: 1 [38400/60000 (64%)]\tLoss: 0.64 Accuracy: 0.78\n",
      "Train Epoch: 1 [44800/60000 (75%)]\tLoss: 0.52 Accuracy: 0.81\n",
      "Train Epoch: 1 [51200/60000 (85%)]\tLoss: 0.46 Accuracy: 0.88\n",
      "Train Epoch: 1 [57600/60000 (96%)]\tLoss: 0.40 Accuracy: 0.89\n",
      "\n",
      "Test accuracy=0.94\n",
      "\n",
      "Train Epoch: 2 [0/60000 (0%)]\tLoss: 0.66 Accuracy: 0.83\n",
      "Train Epoch: 2 [6400/60000 (11%)]\tLoss: 0.35 Accuracy: 0.89\n",
      "Train Epoch: 2 [12800/60000 (21%)]\tLoss: 0.33 Accuracy: 0.89\n",
      "Train Epoch: 2 [19200/60000 (32%)]\tLoss: 0.33 Accuracy: 0.89\n",
      "Train Epoch: 2 [25600/60000 (43%)]\tLoss: 0.31 Accuracy: 0.89\n",
      "Train Epoch: 2 [32000/60000 (53%)]\tLoss: 0.30 Accuracy: 0.89\n",
      "Train Epoch: 2 [38400/60000 (64%)]\tLoss: 0.26 Accuracy: 0.92\n",
      "Train Epoch: 2 [44800/60000 (75%)]\tLoss: 0.44 Accuracy: 0.83\n",
      "Train Epoch: 2 [51200/60000 (85%)]\tLoss: 0.19 Accuracy: 0.95\n",
      "Train Epoch: 2 [57600/60000 (96%)]\tLoss: 0.57 Accuracy: 0.86\n",
      "\n",
      "Test accuracy=0.96\n",
      "\n",
      "Train Epoch: 3 [0/60000 (0%)]\tLoss: 0.35 Accuracy: 0.88\n",
      "Train Epoch: 3 [6400/60000 (11%)]\tLoss: 0.35 Accuracy: 0.89\n",
      "Train Epoch: 3 [12800/60000 (21%)]\tLoss: 0.34 Accuracy: 0.89\n",
      "Train Epoch: 3 [19200/60000 (32%)]\tLoss: 0.54 Accuracy: 0.84\n",
      "Train Epoch: 3 [25600/60000 (43%)]\tLoss: 0.28 Accuracy: 0.91\n",
      "Train Epoch: 3 [32000/60000 (53%)]\tLoss: 0.47 Accuracy: 0.91\n",
      "Train Epoch: 3 [38400/60000 (64%)]\tLoss: 0.55 Accuracy: 0.92\n",
      "Train Epoch: 3 [44800/60000 (75%)]\tLoss: 0.17 Accuracy: 0.95\n",
      "Train Epoch: 3 [51200/60000 (85%)]\tLoss: 0.35 Accuracy: 0.89\n",
      "Train Epoch: 3 [57600/60000 (96%)]\tLoss: 0.44 Accuracy: 0.84\n",
      "\n",
      "Test accuracy=0.97\n",
      "\n",
      "Train Epoch: 4 [0/60000 (0%)]\tLoss: 0.12 Accuracy: 0.98\n",
      "Train Epoch: 4 [6400/60000 (11%)]\tLoss: 0.25 Accuracy: 0.92\n",
      "Train Epoch: 4 [12800/60000 (21%)]\tLoss: 0.25 Accuracy: 0.91\n",
      "Train Epoch: 4 [19200/60000 (32%)]\tLoss: 0.22 Accuracy: 0.94\n",
      "Train Epoch: 4 [25600/60000 (43%)]\tLoss: 0.35 Accuracy: 0.94\n",
      "Train Epoch: 4 [32000/60000 (53%)]\tLoss: 0.35 Accuracy: 0.86\n",
      "Train Epoch: 4 [38400/60000 (64%)]\tLoss: 0.28 Accuracy: 0.91\n",
      "Train Epoch: 4 [44800/60000 (75%)]\tLoss: 0.26 Accuracy: 0.91\n",
      "Train Epoch: 4 [51200/60000 (85%)]\tLoss: 0.29 Accuracy: 0.89\n",
      "Train Epoch: 4 [57600/60000 (96%)]\tLoss: 0.10 Accuracy: 0.97\n",
      "\n",
      "Test accuracy=0.98\n",
      "\n",
      "Train Epoch: 5 [0/60000 (0%)]\tLoss: 0.23 Accuracy: 0.91\n",
      "Train Epoch: 5 [6400/60000 (11%)]\tLoss: 0.44 Accuracy: 0.86\n",
      "Train Epoch: 5 [12800/60000 (21%)]\tLoss: 0.22 Accuracy: 0.92\n",
      "Train Epoch: 5 [19200/60000 (32%)]\tLoss: 0.22 Accuracy: 0.95\n",
      "Train Epoch: 5 [25600/60000 (43%)]\tLoss: 0.23 Accuracy: 0.94\n",
      "Train Epoch: 5 [32000/60000 (53%)]\tLoss: 0.10 Accuracy: 0.98\n",
      "Train Epoch: 5 [38400/60000 (64%)]\tLoss: 0.30 Accuracy: 0.92\n",
      "Train Epoch: 5 [44800/60000 (75%)]\tLoss: 0.15 Accuracy: 0.92\n",
      "Train Epoch: 5 [51200/60000 (85%)]\tLoss: 0.26 Accuracy: 0.94\n",
      "Train Epoch: 5 [57600/60000 (96%)]\tLoss: 0.28 Accuracy: 0.92\n",
      "\n",
      "Test accuracy=0.98\n",
      "\n"
     ]
    }
   ],
   "source": [
    "epochs = 5\n",
    "\n",
    "for epoch in range(1, epochs + 1):\n",
    "    train(model, device, train_loader, optimizer, epoch, writer)\n",
    "    test(model, device, test_loader, epoch, writer)\n",
    "\n",
    "writer.close()"
   ]
  },
  {
   "cell_type": "code",
   "execution_count": 15,
   "metadata": {},
   "outputs": [
    {
     "name": "stderr",
     "output_type": "stream",
     "text": [
      "/usr/local/lib/python3.7/site-packages/ipykernel_launcher.py:17: UserWarning: Implicit dimension choice for log_softmax has been deprecated. Change the call to include dim=X as an argument.\n"
     ]
    },
    {
     "data": {
      "image/png": "[encoded data removed]",
      "text/plain": [
       "<Figure size 432x288 with 6 Axes>"
      ]
     },
     "metadata": {},
     "output_type": "display_data"
    }
   ],
   "source": [
    "examples = enumerate(test_loader)\n",
    "batch_idx, (example_data, example_targets) = next(examples)\n",
    "\n",
    "with torch.no_grad():\n",
    "  output = model(example_data)\n",
    "\n",
    "fig = plt.figure()\n",
    "for i in range(6):\n",
    "  plt.subplot(2,3,i+1)\n",
    "  plt.tight_layout()\n",
    "  plt.imshow(example_data[i][0], cmap='gray', interpolation='none')\n",
    "  plt.title(\"Ground Truth: {}\".format(example_targets[i]))\n",
    "  plt.xticks([])\n",
    "  plt.yticks([])"
   ]
  },
  {
   "cell_type": "code",
   "execution_count": 16,
   "metadata": {},
   "outputs": [],
   "source": [
    "torch.save(model.state_dict(),\"mnist_cnn.pt\")\n"
   ]
  },
  {
   "cell_type": "code",
   "execution_count": 17,
   "metadata": {},
   "outputs": [
    {
     "data": {
      "text/html": [
       "\n",
       "      <iframe id=\"tensorboard-frame-4de9eabd2ac787d0\" width=\"100%\" height=\"800\" frameborder=\"0\">\n",
       "      </iframe>\n",
       "      <script>\n",
       "        (function() {\n",
       "          const frame = document.getElementById(\"tensorboard-frame-4de9eabd2ac787d0\");\n",
       "          const url = new URL(\"/\", window.location);\n",
       "          url.port = 6006;\n",
       "          frame.src = url;\n",
       "        })();\n",
       "      </script>\n",
       "  "
      ],
      "text/plain": [
       "<IPython.core.display.HTML object>"
      ]
     },
     "metadata": {},
     "output_type": "display_data"
    }
   ],
   "source": [
    "#Works in juypter notebook but not in vscode\n",
    "%load_ext tensorboard\n",
    "%tensorboard --logdir logs"
   ]
  },
  {
   "cell_type": "code",
   "execution_count": null,
   "metadata": {},
   "outputs": [],
   "source": []
  }
 ],
 "metadata": {
  "kernelspec": {
   "display_name": "Python 3",
   "language": "python",
   "name": "python3"
  },
  "language_info": {
   "codemirror_mode": {
    "name": "ipython",
    "version": 3
   },
   "file_extension": ".py",
   "mimetype": "text/x-python",
   "name": "python",
   "nbconvert_exporter": "python",
   "pygments_lexer": "ipython3",
   "version": "3.7.6"
  }
 },
 "nbformat": 4,
 "nbformat_minor": 4
}
